{
  "cells": [
    {
      "cell_type": "markdown",
      "metadata": {
        "id": "view-in-github",
        "colab_type": "text"
      },
      "source": [
        "<a href=\"https://colab.research.google.com/github/nurfitrianamldh/tugas-10-crawling-web/blob/main/Tugas_10_Crawling_Web.ipynb\" target=\"_parent\"><img src=\"https://colab.research.google.com/assets/colab-badge.svg\" alt=\"Open In Colab\"/></a>"
      ]
    },
    {
      "cell_type": "code",
      "execution_count": null,
      "metadata": {
        "colab": {
          "base_uri": "https://localhost:8080/"
        },
        "id": "I7enx0A7Y-nb",
        "outputId": "2eb9bf23-b1ff-47a1-eec8-a7520468bfce"
      },
      "outputs": [
        {
          "output_type": "stream",
          "name": "stdout",
          "text": [
            "Requirement already satisfied: beautifulsoup4 in /usr/local/lib/python3.10/dist-packages (4.12.3)\n",
            "Requirement already satisfied: soupsieve>1.2 in /usr/local/lib/python3.10/dist-packages (from beautifulsoup4) (2.6)\n"
          ]
        }
      ],
      "source": [
        "pip install beautifulsoup4"
      ]
    },
    {
      "cell_type": "code",
      "execution_count": null,
      "metadata": {
        "id": "6IasF4g5ZTGn"
      },
      "outputs": [],
      "source": [
        "import requests\n",
        "from bs4 import BeautifulSoup\n",
        "import time\n",
        "from csv import writer"
      ]
    },
    {
      "cell_type": "code",
      "execution_count": null,
      "metadata": {
        "id": "cNsIJv7iZ40q"
      },
      "outputs": [],
      "source": [
        "# URL halaman utama\n",
        "base_url = 'http://quotes.toscrape.com/'"
      ]
    },
    {
      "cell_type": "code",
      "execution_count": null,
      "metadata": {
        "id": "Y4RYuTjp7G86"
      },
      "outputs": [],
      "source": [
        "# File untuk menyimpan hasil\n",
        "with open('quotes.csv', 'w') as file:\n",
        "  csv_writer = writer(file)\n",
        "  csv_writer.writerow(['Text', 'Author'])\n",
        "  # Mengambil data dari beberapa halaman\n",
        "  for page in range(1, 6):  # Misal, ambil 5 halaman pertama\n",
        "    url = f\"{base_url}?page={page}\"\n",
        "    response = requests.get(url)\n",
        "    if response.status_code == 200:\n",
        "      soup = BeautifulSoup(response.text, 'html.parser')\n",
        "      quotes = soup.find_all('div', class_='quote')  # Pastikan kelas yang benar\n",
        "      for quote in quotes:\n",
        "        # Ambil data nama perusahaan\n",
        "        text = quote.find('span', class_='text').text.strip()\n",
        "        # Ambil data lokasi perusahaan\n",
        "        author = quote.find('small', class_='author').text.strip()\n",
        "\n",
        "        # Menampilkan data di console\n",
        "        print(f\"Text: {text}, Author: {author}\")\n",
        "\n",
        "        # Menulis data ke CSV\n",
        "        csv_writer.writerow([text, author])\n",
        "\n",
        "      # Jeda agar tidak terlalu cepat (anti-detected)\n",
        "      time.sleep(2)  # Menunggu 2 detik sebelum mengakses halaman berikutnya\n",
        "    else:\n",
        "      print(f\"Gagal mengakses halaman: {response.status_code}\")"
      ]
    }
  ],
  "metadata": {
    "colab": {
      "provenance": [],
      "authorship_tag": "ABX9TyODlIE4itV5dGDtshiyczLi",
      "include_colab_link": true
    },
    "kernelspec": {
      "display_name": "Python 3",
      "name": "python3"
    },
    "language_info": {
      "name": "python"
    }
  },
  "nbformat": 4,
  "nbformat_minor": 0
}